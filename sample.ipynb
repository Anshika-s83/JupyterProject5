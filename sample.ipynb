{
 "cells": [
  {
   "metadata": {
    "ExecuteTime": {
     "end_time": "2025-09-03T10:32:34.788605Z",
     "start_time": "2025-09-03T10:32:34.231297Z"
    }
   },
   "cell_type": "code",
   "source": [
    "import pandas as pd\n",
    "df = pd.read_csv(\"C:/Users/msans/PycharmProjects/JupyterProject5/Medical Appointment No Shows\")"
   ],
   "id": "fbc121e30a2defb3",
   "outputs": [],
   "execution_count": 5
  },
  {
   "metadata": {
    "ExecuteTime": {
     "end_time": "2025-09-03T10:32:57.216189Z",
     "start_time": "2025-09-03T10:32:57.188541Z"
    }
   },
   "cell_type": "code",
   "source": "df.isnull().values.any()",
   "id": "635267d4fab3e223",
   "outputs": [
    {
     "data": {
      "text/plain": [
       "np.False_"
      ]
     },
     "execution_count": 6,
     "metadata": {},
     "output_type": "execute_result"
    }
   ],
   "execution_count": 6
  },
  {
   "metadata": {
    "ExecuteTime": {
     "end_time": "2025-09-03T10:34:02.606238Z",
     "start_time": "2025-09-03T10:34:02.517357Z"
    }
   },
   "cell_type": "code",
   "source": "df.drop_duplicates()",
   "id": "361f5d98907e6004",
   "outputs": [
    {
     "data": {
      "text/plain": [
       "       PatientId\\tAppointmentID\\tGender\\tScheduledDay\\tAppointmentDay\\tAge\\tNeighbourhood\\tScholarship\\tHipertension\\tDiabetes\\tAlcoholism\\tHandcap\\tSMS_received\\tNo-show\n",
       "0       2.98725E+13\\t5642903\\tF\\t2016-04-29T18:38:08Z\\...                                                                                                                 \n",
       "1       5.58998E+14\\t5642503\\tM\\t2016-04-29T16:08:27Z\\...                                                                                                                 \n",
       "2       4.26296E+12\\t5642549\\tF\\t2016-04-29T16:19:04Z\\...                                                                                                                 \n",
       "3       8.67951E+11\\t5642828\\tF\\t2016-04-29T17:29:31Z\\...                                                                                                                 \n",
       "4       8.84119E+12\\t5642494\\tF\\t2016-04-29T16:07:23Z\\...                                                                                                                 \n",
       "...                                                   ...                                                                                                                 \n",
       "110523  3.59627E+12\\t5650093\\tF\\t2016-05-03T07:27:33Z\\...                                                                                                                 \n",
       "110524  1.55766E+13\\t5630692\\tF\\t2016-04-27T16:03:52Z\\...                                                                                                                 \n",
       "110525  9.21349E+13\\t5630323\\tF\\t2016-04-27T15:09:23Z\\...                                                                                                                 \n",
       "110526  3.77512E+14\\t5629448\\tF\\t2016-04-27T13:30:56Z\\...                                                                                                                 \n",
       "110527  PatientId\\tAppointmentID\\tGender\\tScheduledDay...                                                                                                                 \n",
       "\n",
       "[110528 rows x 1 columns]"
      ],
      "text/html": [
       "<div>\n",
       "<style scoped>\n",
       "    .dataframe tbody tr th:only-of-type {\n",
       "        vertical-align: middle;\n",
       "    }\n",
       "\n",
       "    .dataframe tbody tr th {\n",
       "        vertical-align: top;\n",
       "    }\n",
       "\n",
       "    .dataframe thead th {\n",
       "        text-align: right;\n",
       "    }\n",
       "</style>\n",
       "<table border=\"1\" class=\"dataframe\">\n",
       "  <thead>\n",
       "    <tr style=\"text-align: right;\">\n",
       "      <th></th>\n",
       "      <th>PatientId\\tAppointmentID\\tGender\\tScheduledDay\\tAppointmentDay\\tAge\\tNeighbourhood\\tScholarship\\tHipertension\\tDiabetes\\tAlcoholism\\tHandcap\\tSMS_received\\tNo-show</th>\n",
       "    </tr>\n",
       "  </thead>\n",
       "  <tbody>\n",
       "    <tr>\n",
       "      <th>0</th>\n",
       "      <td>2.98725E+13\\t5642903\\tF\\t2016-04-29T18:38:08Z\\...</td>\n",
       "    </tr>\n",
       "    <tr>\n",
       "      <th>1</th>\n",
       "      <td>5.58998E+14\\t5642503\\tM\\t2016-04-29T16:08:27Z\\...</td>\n",
       "    </tr>\n",
       "    <tr>\n",
       "      <th>2</th>\n",
       "      <td>4.26296E+12\\t5642549\\tF\\t2016-04-29T16:19:04Z\\...</td>\n",
       "    </tr>\n",
       "    <tr>\n",
       "      <th>3</th>\n",
       "      <td>8.67951E+11\\t5642828\\tF\\t2016-04-29T17:29:31Z\\...</td>\n",
       "    </tr>\n",
       "    <tr>\n",
       "      <th>4</th>\n",
       "      <td>8.84119E+12\\t5642494\\tF\\t2016-04-29T16:07:23Z\\...</td>\n",
       "    </tr>\n",
       "    <tr>\n",
       "      <th>...</th>\n",
       "      <td>...</td>\n",
       "    </tr>\n",
       "    <tr>\n",
       "      <th>110523</th>\n",
       "      <td>3.59627E+12\\t5650093\\tF\\t2016-05-03T07:27:33Z\\...</td>\n",
       "    </tr>\n",
       "    <tr>\n",
       "      <th>110524</th>\n",
       "      <td>1.55766E+13\\t5630692\\tF\\t2016-04-27T16:03:52Z\\...</td>\n",
       "    </tr>\n",
       "    <tr>\n",
       "      <th>110525</th>\n",
       "      <td>9.21349E+13\\t5630323\\tF\\t2016-04-27T15:09:23Z\\...</td>\n",
       "    </tr>\n",
       "    <tr>\n",
       "      <th>110526</th>\n",
       "      <td>3.77512E+14\\t5629448\\tF\\t2016-04-27T13:30:56Z\\...</td>\n",
       "    </tr>\n",
       "    <tr>\n",
       "      <th>110527</th>\n",
       "      <td>PatientId\\tAppointmentID\\tGender\\tScheduledDay...</td>\n",
       "    </tr>\n",
       "  </tbody>\n",
       "</table>\n",
       "<p>110528 rows × 1 columns</p>\n",
       "</div>"
      ]
     },
     "execution_count": 7,
     "metadata": {},
     "output_type": "execute_result"
    }
   ],
   "execution_count": 7
  },
  {
   "metadata": {
    "ExecuteTime": {
     "end_time": "2025-09-03T10:36:58.000227Z",
     "start_time": "2025-09-03T10:36:57.185660Z"
    }
   },
   "cell_type": "code",
   "source": [
    "df=pd.read_csv(\"C:/Users/msans/PycharmProjects/JupyterProject5/Medical Appointment No Shows\")\n",
    "df_no_duplicates = df.drop_duplicates()\n",
    "df_no_duplicates.to_csv(\"Cleaned_file.csv\",index=False)\n",
    "print(\"duplicates have been removed\")"
   ],
   "id": "2cf4e8d10fd2664c",
   "outputs": [
    {
     "name": "stdout",
     "output_type": "stream",
     "text": [
      "duplicates have been removed\n"
     ]
    }
   ],
   "execution_count": 8
  },
  {
   "metadata": {
    "ExecuteTime": {
     "end_time": "2025-09-03T10:52:21.618932Z",
     "start_time": "2025-09-03T10:52:21.614656Z"
    }
   },
   "cell_type": "code",
   "source": "print(df.columns.tolist())",
   "id": "72e9c7c2e54b4a46",
   "outputs": [
    {
     "name": "stdout",
     "output_type": "stream",
     "text": [
      "['PatientId\\tAppointmentID\\tGender\\tScheduledDay\\tAppointmentDay\\tAge\\tNeighbourhood\\tScholarship\\tHipertension\\tDiabetes\\tAlcoholism\\tHandcap\\tSMS_received\\tNo-show']\n"
     ]
    }
   ],
   "execution_count": 17
  },
  {
   "metadata": {
    "ExecuteTime": {
     "end_time": "2025-09-03T10:57:05.745354Z",
     "start_time": "2025-09-03T10:57:05.545918Z"
    }
   },
   "cell_type": "code",
   "source": [
    "import pandas as pd\n",
    "df = pd.read_csv(\"Cleaned_file.csv\",sep=\"\\t\")\n",
    "print(df.columns.tolist())"
   ],
   "id": "ee0a7ddd0748a4d",
   "outputs": [
    {
     "name": "stdout",
     "output_type": "stream",
     "text": [
      "['PatientId', 'AppointmentID', 'Gender', 'ScheduledDay', 'AppointmentDay', 'Age', 'Neighbourhood', 'Scholarship', 'Hipertension', 'Diabetes', 'Alcoholism', 'Handcap', 'SMS_received', 'No-show']\n"
     ]
    },
    {
     "name": "stderr",
     "output_type": "stream",
     "text": [
      "C:\\Users\\msans\\AppData\\Local\\Temp\\ipykernel_7848\\1618154869.py:2: DtypeWarning: Columns (0,1,5,7,8,9,10,11,12) have mixed types. Specify dtype option on import or set low_memory=False.\n",
      "  df = pd.read_csv(\"Cleaned_file.csv\",sep=\"\\t\")\n"
     ]
    }
   ],
   "execution_count": 22
  },
  {
   "metadata": {
    "ExecuteTime": {
     "end_time": "2025-09-03T10:58:45.080847Z",
     "start_time": "2025-09-03T10:58:45.059971Z"
    }
   },
   "cell_type": "code",
   "source": "df['Gender'] = df['Gender'].str.lower()",
   "id": "bc453af37491be4c",
   "outputs": [],
   "execution_count": 24
  },
  {
   "metadata": {
    "ExecuteTime": {
     "end_time": "2025-09-03T11:24:41.076480Z",
     "start_time": "2025-09-03T11:24:41.014775Z"
    }
   },
   "cell_type": "code",
   "source": "df['Gender'] = df['Gender'].astype(str).str.strip().str.lower().replace({'m':'Male','f':'Female'})",
   "id": "954e0a93bbf4d1b2",
   "outputs": [],
   "execution_count": 33
  },
  {
   "metadata": {
    "ExecuteTime": {
     "end_time": "2025-09-03T11:24:43.254647Z",
     "start_time": "2025-09-03T11:24:43.245113Z"
    }
   },
   "cell_type": "code",
   "source": "print(df)",
   "id": "9fe5872c64f7ef85",
   "outputs": [
    {
     "name": "stdout",
     "output_type": "stream",
     "text": [
      "                PatientId  AppointmentID  Gender          ScheduledDay  \\\n",
      "0        29872500000000.0        5642903  Female  2016-04-29T18:38:08Z   \n",
      "1       558998000000000.0        5642503    Male  2016-04-29T16:08:27Z   \n",
      "2         4262960000000.0        5642549  Female  2016-04-29T16:19:04Z   \n",
      "3          867951000000.0        5642828  Female  2016-04-29T17:29:31Z   \n",
      "4         8841190000000.0        5642494  Female  2016-04-29T16:07:23Z   \n",
      "...                   ...            ...     ...                   ...   \n",
      "110523        3.59627E+12        5650093  Female  2016-05-03T07:27:33Z   \n",
      "110524        1.55766E+13        5630692  Female  2016-04-27T16:03:52Z   \n",
      "110525        9.21349E+13        5630323  Female  2016-04-27T15:09:23Z   \n",
      "110526        3.77512E+14        5629448  Female  2016-04-27T13:30:56Z   \n",
      "110527          PatientId  AppointmentID  gender          ScheduledDay   \n",
      "\n",
      "              AppointmentDay  Age      Neighbourhood  Scholarship  \\\n",
      "0       2016-04-29T00:00:00Z   62    JARDIM DA PENHA            0   \n",
      "1       2016-04-29T00:00:00Z   56    JARDIM DA PENHA            0   \n",
      "2       2016-04-29T00:00:00Z   62      MATA DA PRAIA            0   \n",
      "3       2016-04-29T00:00:00Z    8  PONTAL DE CAMBURI            0   \n",
      "4       2016-04-29T00:00:00Z   56    JARDIM DA PENHA            0   \n",
      "...                      ...  ...                ...          ...   \n",
      "110523  2016-06-07T00:00:00Z   51        MARIA ORTIZ            0   \n",
      "110524  2016-06-07T00:00:00Z   21        MARIA ORTIZ            0   \n",
      "110525  2016-06-07T00:00:00Z   38        MARIA ORTIZ            0   \n",
      "110526  2016-06-07T00:00:00Z   54        MARIA ORTIZ            0   \n",
      "110527        AppointmentDay  Age      Neighbourhood  Scholarship   \n",
      "\n",
      "        Hipertension  Diabetes  Alcoholism  Handcap  SMS_received  No-show  \n",
      "0                  1         0           0        0             0       No  \n",
      "1                  0         0           0        0             0       No  \n",
      "2                  0         0           0        0             0       No  \n",
      "3                  0         0           0        0             0       No  \n",
      "4                  1         1           0        0             0       No  \n",
      "...              ...       ...         ...      ...           ...      ...  \n",
      "110523             0         0           0        0             1       No  \n",
      "110524             0         0           0        0             1       No  \n",
      "110525             0         0           0        0             1       No  \n",
      "110526             0         0           0        0             1       No  \n",
      "110527  Hipertension  Diabetes  Alcoholism  Handcap  SMS_received  No-show  \n",
      "\n",
      "[110528 rows x 14 columns]\n"
     ]
    }
   ],
   "execution_count": 34
  },
  {
   "metadata": {
    "ExecuteTime": {
     "end_time": "2025-09-03T11:29:59.510942Z",
     "start_time": "2025-09-03T11:29:59.505764Z"
    }
   },
   "cell_type": "code",
   "source": "print(df.dtypes)",
   "id": "31183d04f6101f92",
   "outputs": [
    {
     "name": "stdout",
     "output_type": "stream",
     "text": [
      "PatientId         object\n",
      "AppointmentID     object\n",
      "Gender            object\n",
      "ScheduledDay      object\n",
      "AppointmentDay    object\n",
      "Age               object\n",
      "Neighbourhood     object\n",
      "Scholarship       object\n",
      "Hipertension      object\n",
      "Diabetes          object\n",
      "Alcoholism        object\n",
      "Handcap           object\n",
      "SMS_received      object\n",
      "No-show           object\n",
      "dtype: object\n"
     ]
    }
   ],
   "execution_count": 38
  },
  {
   "metadata": {
    "ExecuteTime": {
     "end_time": "2025-09-03T15:34:44.712327Z",
     "start_time": "2025-09-03T15:34:44.181152Z"
    }
   },
   "cell_type": "code",
   "source": [
    "df[\"ScheduledDay\"] = pd.to_datetime(df[\"ScheduledDay\"], errors=\"coerce\", utc=True)\n",
    "\n",
    "# Step 2: Format to ddmmyyyy (only works on valid datetimes)\n",
    "df[\"ScheduledDay\"] = df[\"ScheduledDay\"].dt.strftime(\"%d%m%Y\")"
   ],
   "id": "7eb028e60aa10bb5",
   "outputs": [],
   "execution_count": 4
  },
  {
   "metadata": {
    "ExecuteTime": {
     "end_time": "2025-09-03T15:56:39.059447Z",
     "start_time": "2025-09-03T15:56:38.792256Z"
    }
   },
   "cell_type": "code",
   "source": [
    "df=pd.read_csv(\"Cleaned_file.csv\",sep=\"\\t\")\n",
    "df[\"Age\"] = pd.to_numeric(df[\"Age\"], errors=\"coerce\")\n",
    "\n",
    "# Now convert to int (if you want to drop/ignore NaN values)\n",
    "df[\"Age\"] = df[\"Age\"].astype(\"Int64\")   #"
   ],
   "id": "21afe0e8d057eaae",
   "outputs": [
    {
     "name": "stderr",
     "output_type": "stream",
     "text": [
      "C:\\Users\\msans\\AppData\\Local\\Temp\\ipykernel_17960\\663371787.py:1: DtypeWarning: Columns (0,1,5,7,8,9,10,11,12) have mixed types. Specify dtype option on import or set low_memory=False.\n",
      "  df=pd.read_csv(\"Cleaned_file.csv\",sep=\"\\t\")\n"
     ]
    }
   ],
   "execution_count": 24
  },
  {
   "metadata": {
    "ExecuteTime": {
     "end_time": "2025-09-03T15:57:12.698946Z",
     "start_time": "2025-09-03T15:57:12.694787Z"
    }
   },
   "cell_type": "code",
   "source": "df[\"Age\"].dtypes",
   "id": "da713386c48556cf",
   "outputs": [
    {
     "data": {
      "text/plain": [
       "Int64Dtype()"
      ]
     },
     "execution_count": 26,
     "metadata": {},
     "output_type": "execute_result"
    }
   ],
   "execution_count": 26
  },
  {
   "metadata": {
    "ExecuteTime": {
     "end_time": "2025-09-03T15:57:47.404459Z",
     "start_time": "2025-09-03T15:57:47.400196Z"
    }
   },
   "cell_type": "code",
   "source": "df[\"ScheduledDay\"].dtypes",
   "id": "888e8b44d0aa81d0",
   "outputs": [
    {
     "data": {
      "text/plain": [
       "dtype('O')"
      ]
     },
     "execution_count": 27,
     "metadata": {},
     "output_type": "execute_result"
    }
   ],
   "execution_count": 27
  },
  {
   "metadata": {
    "ExecuteTime": {
     "end_time": "2025-09-03T15:59:39.083521Z",
     "start_time": "2025-09-03T15:59:38.971657Z"
    }
   },
   "cell_type": "code",
   "source": [
    "df[\"ScheduledDay\"] = pd.to_datetime(df[\"ScheduledDay\"], errors=\"coerce\", utc=True)\n",
    "\n",
    "# Now check\n",
    "print(df[\"ScheduledDay\"].dtype)"
   ],
   "id": "670fefc51fc4223d",
   "outputs": [
    {
     "name": "stdout",
     "output_type": "stream",
     "text": [
      "datetime64[ns, UTC]\n"
     ]
    }
   ],
   "execution_count": 28
  },
  {
   "metadata": {
    "ExecuteTime": {
     "end_time": "2025-09-03T16:14:49.120475Z",
     "start_time": "2025-09-03T16:14:48.959691Z"
    }
   },
   "cell_type": "code",
   "source": [
    "# Now convert to int (if you want to drop/ignore NaN values)\n",
    "df[\"Hipertension\"] = df[\"Hipertension\"].astype(\"Int64\")\n",
    "df[\"Hipertension\"] = pd.to_numeric(df[\"Hipertension\"], errors=\"coerce\")\n",
    "\n",
    "df[\"Alcoholism\"] = df[\"Alcoholism\"].astype(\"Int64\")\n",
    "df[\"Alcoholism\"] = pd.to_numeric(df[\"Alcoholism\"], errors=\"coerce\")\n",
    "\n",
    "df[\"AppointmentDay\"] = df[\"AppointmentDay\"].astype(\"Int64\")\n",
    "df[\"AppointmentDay\"] = pd.to_numeric(df[\"AppointmentDay\"], errors=\"coerce\")\n"
   ],
   "id": "15b3f8890a34af0d",
   "outputs": [
    {
     "ename": "TypeError",
     "evalue": "cannot safely cast non-equivalent object to int64",
     "output_type": "error",
     "traceback": [
      "\u001B[31m---------------------------------------------------------------------------\u001B[39m",
      "\u001B[31mTypeError\u001B[39m                                 Traceback (most recent call last)",
      "\u001B[36mFile \u001B[39m\u001B[32m~\\PycharmProjects\\JupyterProject5\\.venv\\Lib\\site-packages\\pandas\\core\\arrays\\integer.py:53\u001B[39m, in \u001B[36mIntegerDtype._safe_cast\u001B[39m\u001B[34m(cls, values, dtype, copy)\u001B[39m\n\u001B[32m     52\u001B[39m \u001B[38;5;28;01mtry\u001B[39;00m:\n\u001B[32m---> \u001B[39m\u001B[32m53\u001B[39m     \u001B[38;5;28;01mreturn\u001B[39;00m \u001B[43mvalues\u001B[49m\u001B[43m.\u001B[49m\u001B[43mastype\u001B[49m\u001B[43m(\u001B[49m\u001B[43mdtype\u001B[49m\u001B[43m,\u001B[49m\u001B[43m \u001B[49m\u001B[43mcasting\u001B[49m\u001B[43m=\u001B[49m\u001B[33;43m\"\u001B[39;49m\u001B[33;43msafe\u001B[39;49m\u001B[33;43m\"\u001B[39;49m\u001B[43m,\u001B[49m\u001B[43m \u001B[49m\u001B[43mcopy\u001B[49m\u001B[43m=\u001B[49m\u001B[43mcopy\u001B[49m\u001B[43m)\u001B[49m\n\u001B[32m     54\u001B[39m \u001B[38;5;28;01mexcept\u001B[39;00m \u001B[38;5;167;01mTypeError\u001B[39;00m \u001B[38;5;28;01mas\u001B[39;00m err:\n",
      "\u001B[31mTypeError\u001B[39m: Cannot cast array data from dtype('O') to dtype('int64') according to the rule 'safe'",
      "\nThe above exception was the direct cause of the following exception:\n",
      "\u001B[31mTypeError\u001B[39m                                 Traceback (most recent call last)",
      "\u001B[36mCell\u001B[39m\u001B[36m \u001B[39m\u001B[32mIn[39]\u001B[39m\u001B[32m, line 5\u001B[39m\n\u001B[32m      2\u001B[39m df[\u001B[33m\"\u001B[39m\u001B[33mHipertension\u001B[39m\u001B[33m\"\u001B[39m] = df[\u001B[33m\"\u001B[39m\u001B[33mHipertension\u001B[39m\u001B[33m\"\u001B[39m].astype(\u001B[33m\"\u001B[39m\u001B[33mInt64\u001B[39m\u001B[33m\"\u001B[39m)\n\u001B[32m      3\u001B[39m df[\u001B[33m\"\u001B[39m\u001B[33mHipertension\u001B[39m\u001B[33m\"\u001B[39m] = pd.to_numeric(df[\u001B[33m\"\u001B[39m\u001B[33mHipertension\u001B[39m\u001B[33m\"\u001B[39m], errors=\u001B[33m\"\u001B[39m\u001B[33mcoerce\u001B[39m\u001B[33m\"\u001B[39m)\n\u001B[32m----> \u001B[39m\u001B[32m5\u001B[39m df[\u001B[33m\"\u001B[39m\u001B[33mAlcoholism\u001B[39m\u001B[33m\"\u001B[39m] = \u001B[43mdf\u001B[49m\u001B[43m[\u001B[49m\u001B[33;43m\"\u001B[39;49m\u001B[33;43mAlcoholism\u001B[39;49m\u001B[33;43m\"\u001B[39;49m\u001B[43m]\u001B[49m\u001B[43m.\u001B[49m\u001B[43mastype\u001B[49m\u001B[43m(\u001B[49m\u001B[33;43m\"\u001B[39;49m\u001B[33;43mInt64\u001B[39;49m\u001B[33;43m\"\u001B[39;49m\u001B[43m)\u001B[49m\n\u001B[32m      6\u001B[39m df[\u001B[33m\"\u001B[39m\u001B[33mAlcoholism\u001B[39m\u001B[33m\"\u001B[39m] = pd.to_numeric(df[\u001B[33m\"\u001B[39m\u001B[33mAlcoholism\u001B[39m\u001B[33m\"\u001B[39m], errors=\u001B[33m\"\u001B[39m\u001B[33mcoerce\u001B[39m\u001B[33m\"\u001B[39m)\n\u001B[32m      8\u001B[39m df[\u001B[33m\"\u001B[39m\u001B[33mAppointmentDay\u001B[39m\u001B[33m\"\u001B[39m] = df[\u001B[33m\"\u001B[39m\u001B[33mAppointmentDay\u001B[39m\u001B[33m\"\u001B[39m].astype(\u001B[33m\"\u001B[39m\u001B[33mInt64\u001B[39m\u001B[33m\"\u001B[39m)\n",
      "\u001B[36mFile \u001B[39m\u001B[32m~\\PycharmProjects\\JupyterProject5\\.venv\\Lib\\site-packages\\pandas\\core\\generic.py:6662\u001B[39m, in \u001B[36mNDFrame.astype\u001B[39m\u001B[34m(self, dtype, copy, errors)\u001B[39m\n\u001B[32m   6656\u001B[39m     results = [\n\u001B[32m   6657\u001B[39m         ser.astype(dtype, copy=copy, errors=errors) \u001B[38;5;28;01mfor\u001B[39;00m _, ser \u001B[38;5;129;01min\u001B[39;00m \u001B[38;5;28mself\u001B[39m.items()\n\u001B[32m   6658\u001B[39m     ]\n\u001B[32m   6660\u001B[39m \u001B[38;5;28;01melse\u001B[39;00m:\n\u001B[32m   6661\u001B[39m     \u001B[38;5;66;03m# else, only a single dtype is given\u001B[39;00m\n\u001B[32m-> \u001B[39m\u001B[32m6662\u001B[39m     new_data = \u001B[38;5;28;43mself\u001B[39;49m\u001B[43m.\u001B[49m\u001B[43m_mgr\u001B[49m\u001B[43m.\u001B[49m\u001B[43mastype\u001B[49m\u001B[43m(\u001B[49m\u001B[43mdtype\u001B[49m\u001B[43m=\u001B[49m\u001B[43mdtype\u001B[49m\u001B[43m,\u001B[49m\u001B[43m \u001B[49m\u001B[43mcopy\u001B[49m\u001B[43m=\u001B[49m\u001B[43mcopy\u001B[49m\u001B[43m,\u001B[49m\u001B[43m \u001B[49m\u001B[43merrors\u001B[49m\u001B[43m=\u001B[49m\u001B[43merrors\u001B[49m\u001B[43m)\u001B[49m\n\u001B[32m   6663\u001B[39m     res = \u001B[38;5;28mself\u001B[39m._constructor_from_mgr(new_data, axes=new_data.axes)\n\u001B[32m   6664\u001B[39m     \u001B[38;5;28;01mreturn\u001B[39;00m res.__finalize__(\u001B[38;5;28mself\u001B[39m, method=\u001B[33m\"\u001B[39m\u001B[33mastype\u001B[39m\u001B[33m\"\u001B[39m)\n",
      "\u001B[36mFile \u001B[39m\u001B[32m~\\PycharmProjects\\JupyterProject5\\.venv\\Lib\\site-packages\\pandas\\core\\internals\\managers.py:430\u001B[39m, in \u001B[36mBaseBlockManager.astype\u001B[39m\u001B[34m(self, dtype, copy, errors)\u001B[39m\n\u001B[32m    427\u001B[39m \u001B[38;5;28;01melif\u001B[39;00m using_copy_on_write():\n\u001B[32m    428\u001B[39m     copy = \u001B[38;5;28;01mFalse\u001B[39;00m\n\u001B[32m--> \u001B[39m\u001B[32m430\u001B[39m \u001B[38;5;28;01mreturn\u001B[39;00m \u001B[38;5;28;43mself\u001B[39;49m\u001B[43m.\u001B[49m\u001B[43mapply\u001B[49m\u001B[43m(\u001B[49m\n\u001B[32m    431\u001B[39m \u001B[43m    \u001B[49m\u001B[33;43m\"\u001B[39;49m\u001B[33;43mastype\u001B[39;49m\u001B[33;43m\"\u001B[39;49m\u001B[43m,\u001B[49m\n\u001B[32m    432\u001B[39m \u001B[43m    \u001B[49m\u001B[43mdtype\u001B[49m\u001B[43m=\u001B[49m\u001B[43mdtype\u001B[49m\u001B[43m,\u001B[49m\n\u001B[32m    433\u001B[39m \u001B[43m    \u001B[49m\u001B[43mcopy\u001B[49m\u001B[43m=\u001B[49m\u001B[43mcopy\u001B[49m\u001B[43m,\u001B[49m\n\u001B[32m    434\u001B[39m \u001B[43m    \u001B[49m\u001B[43merrors\u001B[49m\u001B[43m=\u001B[49m\u001B[43merrors\u001B[49m\u001B[43m,\u001B[49m\n\u001B[32m    435\u001B[39m \u001B[43m    \u001B[49m\u001B[43musing_cow\u001B[49m\u001B[43m=\u001B[49m\u001B[43musing_copy_on_write\u001B[49m\u001B[43m(\u001B[49m\u001B[43m)\u001B[49m\u001B[43m,\u001B[49m\n\u001B[32m    436\u001B[39m \u001B[43m\u001B[49m\u001B[43m)\u001B[49m\n",
      "\u001B[36mFile \u001B[39m\u001B[32m~\\PycharmProjects\\JupyterProject5\\.venv\\Lib\\site-packages\\pandas\\core\\internals\\managers.py:363\u001B[39m, in \u001B[36mBaseBlockManager.apply\u001B[39m\u001B[34m(self, f, align_keys, **kwargs)\u001B[39m\n\u001B[32m    361\u001B[39m         applied = b.apply(f, **kwargs)\n\u001B[32m    362\u001B[39m     \u001B[38;5;28;01melse\u001B[39;00m:\n\u001B[32m--> \u001B[39m\u001B[32m363\u001B[39m         applied = \u001B[38;5;28;43mgetattr\u001B[39;49m\u001B[43m(\u001B[49m\u001B[43mb\u001B[49m\u001B[43m,\u001B[49m\u001B[43m \u001B[49m\u001B[43mf\u001B[49m\u001B[43m)\u001B[49m\u001B[43m(\u001B[49m\u001B[43m*\u001B[49m\u001B[43m*\u001B[49m\u001B[43mkwargs\u001B[49m\u001B[43m)\u001B[49m\n\u001B[32m    364\u001B[39m     result_blocks = extend_blocks(applied, result_blocks)\n\u001B[32m    366\u001B[39m out = \u001B[38;5;28mtype\u001B[39m(\u001B[38;5;28mself\u001B[39m).from_blocks(result_blocks, \u001B[38;5;28mself\u001B[39m.axes)\n",
      "\u001B[36mFile \u001B[39m\u001B[32m~\\PycharmProjects\\JupyterProject5\\.venv\\Lib\\site-packages\\pandas\\core\\internals\\blocks.py:784\u001B[39m, in \u001B[36mBlock.astype\u001B[39m\u001B[34m(self, dtype, copy, errors, using_cow, squeeze)\u001B[39m\n\u001B[32m    781\u001B[39m         \u001B[38;5;28;01mraise\u001B[39;00m \u001B[38;5;167;01mValueError\u001B[39;00m(\u001B[33m\"\u001B[39m\u001B[33mCan not squeeze with more than one column.\u001B[39m\u001B[33m\"\u001B[39m)\n\u001B[32m    782\u001B[39m     values = values[\u001B[32m0\u001B[39m, :]  \u001B[38;5;66;03m# type: ignore[call-overload]\u001B[39;00m\n\u001B[32m--> \u001B[39m\u001B[32m784\u001B[39m new_values = \u001B[43mastype_array_safe\u001B[49m\u001B[43m(\u001B[49m\u001B[43mvalues\u001B[49m\u001B[43m,\u001B[49m\u001B[43m \u001B[49m\u001B[43mdtype\u001B[49m\u001B[43m,\u001B[49m\u001B[43m \u001B[49m\u001B[43mcopy\u001B[49m\u001B[43m=\u001B[49m\u001B[43mcopy\u001B[49m\u001B[43m,\u001B[49m\u001B[43m \u001B[49m\u001B[43merrors\u001B[49m\u001B[43m=\u001B[49m\u001B[43merrors\u001B[49m\u001B[43m)\u001B[49m\n\u001B[32m    786\u001B[39m new_values = maybe_coerce_values(new_values)\n\u001B[32m    788\u001B[39m refs = \u001B[38;5;28;01mNone\u001B[39;00m\n",
      "\u001B[36mFile \u001B[39m\u001B[32m~\\PycharmProjects\\JupyterProject5\\.venv\\Lib\\site-packages\\pandas\\core\\dtypes\\astype.py:237\u001B[39m, in \u001B[36mastype_array_safe\u001B[39m\u001B[34m(values, dtype, copy, errors)\u001B[39m\n\u001B[32m    234\u001B[39m     dtype = dtype.numpy_dtype\n\u001B[32m    236\u001B[39m \u001B[38;5;28;01mtry\u001B[39;00m:\n\u001B[32m--> \u001B[39m\u001B[32m237\u001B[39m     new_values = \u001B[43mastype_array\u001B[49m\u001B[43m(\u001B[49m\u001B[43mvalues\u001B[49m\u001B[43m,\u001B[49m\u001B[43m \u001B[49m\u001B[43mdtype\u001B[49m\u001B[43m,\u001B[49m\u001B[43m \u001B[49m\u001B[43mcopy\u001B[49m\u001B[43m=\u001B[49m\u001B[43mcopy\u001B[49m\u001B[43m)\u001B[49m\n\u001B[32m    238\u001B[39m \u001B[38;5;28;01mexcept\u001B[39;00m (\u001B[38;5;167;01mValueError\u001B[39;00m, \u001B[38;5;167;01mTypeError\u001B[39;00m):\n\u001B[32m    239\u001B[39m     \u001B[38;5;66;03m# e.g. _astype_nansafe can fail on object-dtype of strings\u001B[39;00m\n\u001B[32m    240\u001B[39m     \u001B[38;5;66;03m#  trying to convert to float\u001B[39;00m\n\u001B[32m    241\u001B[39m     \u001B[38;5;28;01mif\u001B[39;00m errors == \u001B[33m\"\u001B[39m\u001B[33mignore\u001B[39m\u001B[33m\"\u001B[39m:\n",
      "\u001B[36mFile \u001B[39m\u001B[32m~\\PycharmProjects\\JupyterProject5\\.venv\\Lib\\site-packages\\pandas\\core\\dtypes\\astype.py:182\u001B[39m, in \u001B[36mastype_array\u001B[39m\u001B[34m(values, dtype, copy)\u001B[39m\n\u001B[32m    179\u001B[39m     values = values.astype(dtype, copy=copy)\n\u001B[32m    181\u001B[39m \u001B[38;5;28;01melse\u001B[39;00m:\n\u001B[32m--> \u001B[39m\u001B[32m182\u001B[39m     values = \u001B[43m_astype_nansafe\u001B[49m\u001B[43m(\u001B[49m\u001B[43mvalues\u001B[49m\u001B[43m,\u001B[49m\u001B[43m \u001B[49m\u001B[43mdtype\u001B[49m\u001B[43m,\u001B[49m\u001B[43m \u001B[49m\u001B[43mcopy\u001B[49m\u001B[43m=\u001B[49m\u001B[43mcopy\u001B[49m\u001B[43m)\u001B[49m\n\u001B[32m    184\u001B[39m \u001B[38;5;66;03m# in pandas we don't store numpy str dtypes, so convert to object\u001B[39;00m\n\u001B[32m    185\u001B[39m \u001B[38;5;28;01mif\u001B[39;00m \u001B[38;5;28misinstance\u001B[39m(dtype, np.dtype) \u001B[38;5;129;01mand\u001B[39;00m \u001B[38;5;28missubclass\u001B[39m(values.dtype.type, \u001B[38;5;28mstr\u001B[39m):\n",
      "\u001B[36mFile \u001B[39m\u001B[32m~\\PycharmProjects\\JupyterProject5\\.venv\\Lib\\site-packages\\pandas\\core\\dtypes\\astype.py:80\u001B[39m, in \u001B[36m_astype_nansafe\u001B[39m\u001B[34m(arr, dtype, copy, skipna)\u001B[39m\n\u001B[32m     78\u001B[39m \u001B[38;5;66;03m# dispatch on extension dtype if needed\u001B[39;00m\n\u001B[32m     79\u001B[39m \u001B[38;5;28;01mif\u001B[39;00m \u001B[38;5;28misinstance\u001B[39m(dtype, ExtensionDtype):\n\u001B[32m---> \u001B[39m\u001B[32m80\u001B[39m     \u001B[38;5;28;01mreturn\u001B[39;00m \u001B[43mdtype\u001B[49m\u001B[43m.\u001B[49m\u001B[43mconstruct_array_type\u001B[49m\u001B[43m(\u001B[49m\u001B[43m)\u001B[49m\u001B[43m.\u001B[49m\u001B[43m_from_sequence\u001B[49m\u001B[43m(\u001B[49m\u001B[43marr\u001B[49m\u001B[43m,\u001B[49m\u001B[43m \u001B[49m\u001B[43mdtype\u001B[49m\u001B[43m=\u001B[49m\u001B[43mdtype\u001B[49m\u001B[43m,\u001B[49m\u001B[43m \u001B[49m\u001B[43mcopy\u001B[49m\u001B[43m=\u001B[49m\u001B[43mcopy\u001B[49m\u001B[43m)\u001B[49m\n\u001B[32m     82\u001B[39m \u001B[38;5;28;01melif\u001B[39;00m \u001B[38;5;129;01mnot\u001B[39;00m \u001B[38;5;28misinstance\u001B[39m(dtype, np.dtype):  \u001B[38;5;66;03m# pragma: no cover\u001B[39;00m\n\u001B[32m     83\u001B[39m     \u001B[38;5;28;01mraise\u001B[39;00m \u001B[38;5;167;01mValueError\u001B[39;00m(\u001B[33m\"\u001B[39m\u001B[33mdtype must be np.dtype or ExtensionDtype\u001B[39m\u001B[33m\"\u001B[39m)\n",
      "\u001B[36mFile \u001B[39m\u001B[32m~\\PycharmProjects\\JupyterProject5\\.venv\\Lib\\site-packages\\pandas\\core\\arrays\\masked.py:153\u001B[39m, in \u001B[36mBaseMaskedArray._from_sequence\u001B[39m\u001B[34m(cls, scalars, dtype, copy)\u001B[39m\n\u001B[32m    151\u001B[39m \u001B[38;5;129m@classmethod\u001B[39m\n\u001B[32m    152\u001B[39m \u001B[38;5;28;01mdef\u001B[39;00m\u001B[38;5;250m \u001B[39m\u001B[34m_from_sequence\u001B[39m(\u001B[38;5;28mcls\u001B[39m, scalars, *, dtype=\u001B[38;5;28;01mNone\u001B[39;00m, copy: \u001B[38;5;28mbool\u001B[39m = \u001B[38;5;28;01mFalse\u001B[39;00m) -> Self:\n\u001B[32m--> \u001B[39m\u001B[32m153\u001B[39m     values, mask = \u001B[38;5;28;43mcls\u001B[39;49m\u001B[43m.\u001B[49m\u001B[43m_coerce_to_array\u001B[49m\u001B[43m(\u001B[49m\u001B[43mscalars\u001B[49m\u001B[43m,\u001B[49m\u001B[43m \u001B[49m\u001B[43mdtype\u001B[49m\u001B[43m=\u001B[49m\u001B[43mdtype\u001B[49m\u001B[43m,\u001B[49m\u001B[43m \u001B[49m\u001B[43mcopy\u001B[49m\u001B[43m=\u001B[49m\u001B[43mcopy\u001B[49m\u001B[43m)\u001B[49m\n\u001B[32m    154\u001B[39m     \u001B[38;5;28;01mreturn\u001B[39;00m \u001B[38;5;28mcls\u001B[39m(values, mask)\n",
      "\u001B[36mFile \u001B[39m\u001B[32m~\\PycharmProjects\\JupyterProject5\\.venv\\Lib\\site-packages\\pandas\\core\\arrays\\numeric.py:272\u001B[39m, in \u001B[36mNumericArray._coerce_to_array\u001B[39m\u001B[34m(cls, value, dtype, copy)\u001B[39m\n\u001B[32m    270\u001B[39m dtype_cls = \u001B[38;5;28mcls\u001B[39m._dtype_cls\n\u001B[32m    271\u001B[39m default_dtype = dtype_cls._default_np_dtype\n\u001B[32m--> \u001B[39m\u001B[32m272\u001B[39m values, mask, _, _ = \u001B[43m_coerce_to_data_and_mask\u001B[49m\u001B[43m(\u001B[49m\n\u001B[32m    273\u001B[39m \u001B[43m    \u001B[49m\u001B[43mvalue\u001B[49m\u001B[43m,\u001B[49m\u001B[43m \u001B[49m\u001B[43mdtype\u001B[49m\u001B[43m,\u001B[49m\u001B[43m \u001B[49m\u001B[43mcopy\u001B[49m\u001B[43m,\u001B[49m\u001B[43m \u001B[49m\u001B[43mdtype_cls\u001B[49m\u001B[43m,\u001B[49m\u001B[43m \u001B[49m\u001B[43mdefault_dtype\u001B[49m\n\u001B[32m    274\u001B[39m \u001B[43m\u001B[49m\u001B[43m)\u001B[49m\n\u001B[32m    275\u001B[39m \u001B[38;5;28;01mreturn\u001B[39;00m values, mask\n",
      "\u001B[36mFile \u001B[39m\u001B[32m~\\PycharmProjects\\JupyterProject5\\.venv\\Lib\\site-packages\\pandas\\core\\arrays\\numeric.py:229\u001B[39m, in \u001B[36m_coerce_to_data_and_mask\u001B[39m\u001B[34m(values, dtype, copy, dtype_cls, default_dtype)\u001B[39m\n\u001B[32m    227\u001B[39m     values = values.astype(dtype, copy=copy)\n\u001B[32m    228\u001B[39m \u001B[38;5;28;01melse\u001B[39;00m:\n\u001B[32m--> \u001B[39m\u001B[32m229\u001B[39m     values = \u001B[43mdtype_cls\u001B[49m\u001B[43m.\u001B[49m\u001B[43m_safe_cast\u001B[49m\u001B[43m(\u001B[49m\u001B[43mvalues\u001B[49m\u001B[43m,\u001B[49m\u001B[43m \u001B[49m\u001B[43mdtype\u001B[49m\u001B[43m,\u001B[49m\u001B[43m \u001B[49m\u001B[43mcopy\u001B[49m\u001B[43m=\u001B[49m\u001B[38;5;28;43;01mFalse\u001B[39;49;00m\u001B[43m)\u001B[49m\n\u001B[32m    231\u001B[39m \u001B[38;5;28;01mreturn\u001B[39;00m values, mask, dtype, inferred_type\n",
      "\u001B[36mFile \u001B[39m\u001B[32m~\\PycharmProjects\\JupyterProject5\\.venv\\Lib\\site-packages\\pandas\\core\\arrays\\integer.py:59\u001B[39m, in \u001B[36mIntegerDtype._safe_cast\u001B[39m\u001B[34m(cls, values, dtype, copy)\u001B[39m\n\u001B[32m     56\u001B[39m \u001B[38;5;28;01mif\u001B[39;00m (casted == values).all():\n\u001B[32m     57\u001B[39m     \u001B[38;5;28;01mreturn\u001B[39;00m casted\n\u001B[32m---> \u001B[39m\u001B[32m59\u001B[39m \u001B[38;5;28;01mraise\u001B[39;00m \u001B[38;5;167;01mTypeError\u001B[39;00m(\n\u001B[32m     60\u001B[39m     \u001B[33mf\u001B[39m\u001B[33m\"\u001B[39m\u001B[33mcannot safely cast non-equivalent \u001B[39m\u001B[38;5;132;01m{\u001B[39;00mvalues.dtype\u001B[38;5;132;01m}\u001B[39;00m\u001B[33m to \u001B[39m\u001B[38;5;132;01m{\u001B[39;00mnp.dtype(dtype)\u001B[38;5;132;01m}\u001B[39;00m\u001B[33m\"\u001B[39m\n\u001B[32m     61\u001B[39m ) \u001B[38;5;28;01mfrom\u001B[39;00m\u001B[38;5;250m \u001B[39m\u001B[34;01merr\u001B[39;00m\n",
      "\u001B[31mTypeError\u001B[39m: cannot safely cast non-equivalent object to int64"
     ]
    }
   ],
   "execution_count": 39
  },
  {
   "metadata": {
    "ExecuteTime": {
     "end_time": "2025-09-03T16:14:23.932752Z",
     "start_time": "2025-09-03T16:14:23.918418Z"
    }
   },
   "cell_type": "code",
   "source": [
    "df = df[df['Diabetes'] != 'Diabetes']\n",
    "df['Diabetes'] = df['Diabetes'].astype(int)\n",
    "df['Diabetes'] = pd.to_numeric(df['Diabetes'], errors='coerce')\n",
    "df['Diabetes'].dtypes"
   ],
   "id": "723844d96aa19945",
   "outputs": [
    {
     "data": {
      "text/plain": [
       "dtype('int64')"
      ]
     },
     "execution_count": 38,
     "metadata": {},
     "output_type": "execute_result"
    }
   ],
   "execution_count": 38
  },
  {
   "metadata": {
    "ExecuteTime": {
     "end_time": "2025-09-03T16:17:24.020525Z",
     "start_time": "2025-09-03T16:17:23.961133Z"
    }
   },
   "cell_type": "code",
   "source": [
    "df = df[df['AppointmentID'] != 'AppointmentID']\n",
    "df['AppointmentID'] = df['AppointmentID'].astype(int)\n",
    "df['AppointmentID'] = pd.to_numeric(df['AppointmentID'], errors='coerce')\n",
    "\n",
    "df = df[df['Scholarship'] != 'Scholarship']\n",
    "df['Scholarship'] = df['Scholarship'].astype(int)\n",
    "df['Scholarship'] = pd.to_numeric(df['Scholarship'], errors='coerce')"
   ],
   "id": "d881b56fc6fcd36b",
   "outputs": [],
   "execution_count": 42
  },
  {
   "metadata": {
    "ExecuteTime": {
     "end_time": "2025-09-03T16:17:30.413365Z",
     "start_time": "2025-09-03T16:17:30.408241Z"
    }
   },
   "cell_type": "code",
   "source": "df.dtypes",
   "id": "d07dfa4ac73481b",
   "outputs": [
    {
     "data": {
      "text/plain": [
       "PatientId                      object\n",
       "AppointmentID                   int64\n",
       "Gender                         object\n",
       "ScheduledDay      datetime64[ns, UTC]\n",
       "AppointmentDay                 object\n",
       "Age                             Int64\n",
       "Neighbourhood                  object\n",
       "Scholarship                     int64\n",
       "Hipertension                    Int64\n",
       "Diabetes                        int64\n",
       "Alcoholism                     object\n",
       "Handcap                        object\n",
       "SMS_received                   object\n",
       "No-show                        object\n",
       "dtype: object"
      ]
     },
     "execution_count": 43,
     "metadata": {},
     "output_type": "execute_result"
    }
   ],
   "execution_count": 43
  }
 ],
 "metadata": {
  "kernelspec": {
   "display_name": "Python 3",
   "language": "python",
   "name": "python3"
  },
  "language_info": {
   "codemirror_mode": {
    "name": "ipython",
    "version": 2
   },
   "file_extension": ".py",
   "mimetype": "text/x-python",
   "name": "python",
   "nbconvert_exporter": "python",
   "pygments_lexer": "ipython2",
   "version": "2.7.6"
  }
 },
 "nbformat": 4,
 "nbformat_minor": 5
}
